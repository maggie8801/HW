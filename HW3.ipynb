{
  "nbformat": 4,
  "nbformat_minor": 0,
  "metadata": {
    "colab": {
      "name": "HW3.ipynb",
      "provenance": [],
      "mount_file_id": "1uoazNePVKBR1qATmHOVuddqPM9tqLzjg",
      "authorship_tag": "ABX9TyOZu+yttJIwfkRFMY7fnulb",
      "include_colab_link": true
    },
    "kernelspec": {
      "name": "python3",
      "display_name": "Python 3"
    },
    "language_info": {
      "name": "python"
    }
  },
  "cells": [
    {
      "cell_type": "markdown",
      "metadata": {
        "id": "view-in-github",
        "colab_type": "text"
      },
      "source": [
        "<a href=\"https://colab.research.google.com/github/maggie8801/HW/blob/main/HW3.ipynb\" target=\"_parent\"><img src=\"https://colab.research.google.com/assets/colab-badge.svg\" alt=\"Open In Colab\"/></a>"
      ]
    },
    {
      "cell_type": "code",
      "execution_count": null,
      "metadata": {
        "id": "2NoWVNMD8KJR"
      },
      "outputs": [],
      "source": [
        "import pandas as pd\n",
        "import matplotlib.pyplot as plt\n",
        "import numpy as np\n",
        "import seaborn as sns\n",
        "pd.set_option('display.float_format', lambda x:'%.2f'% x)"
      ]
    },
    {
      "cell_type": "code",
      "source": [
        "# Colab 進行matplotlib繪圖時顯示繁體中文\n",
        "# 下載台北思源黑體並命名taipei_sans_tc_beta.ttf，移至指定路徑\n",
        "!wget -O TaipeiSansTCBeta-Regular.ttf https://drive.google.com/uc?id=1eGAsTN1HBpJAkeVM57_C7ccp7hbgSz3_&export=download\n",
        "\n",
        "import matplotlib as mpl\n",
        "import matplotlib.pyplot as plt \n",
        "from matplotlib.font_manager import fontManager\n",
        "\n",
        "# 改style要在改font之前\n",
        "# plt.style.use('seaborn')  \n",
        "\n",
        "fontManager.addfont('TaipeiSansTCBeta-Regular.ttf')\n",
        "mpl.rc('font', family='Taipei Sans TC Beta')"
      ],
      "metadata": {
        "colab": {
          "base_uri": "https://localhost:8080/"
        },
        "id": "DClZu6onV14d",
        "outputId": "94abc609-f453-4e8c-d804-526c4a385406"
      },
      "execution_count": null,
      "outputs": [
        {
          "output_type": "stream",
          "name": "stdout",
          "text": [
            "--2021-12-10 08:56:09--  https://drive.google.com/uc?id=1eGAsTN1HBpJAkeVM57_C7ccp7hbgSz3_\n",
            "Resolving drive.google.com (drive.google.com)... 173.194.210.113, 173.194.210.101, 173.194.210.138, ...\n",
            "Connecting to drive.google.com (drive.google.com)|173.194.210.113|:443... connected.\n",
            "HTTP request sent, awaiting response... 302 Moved Temporarily\n",
            "Location: https://doc-0k-9o-docs.googleusercontent.com/docs/securesc/ha0ro937gcuc7l7deffksulhg5h7mbp1/ka7fdgpoilp26apiqs4ies07s8iorr6k/1639126500000/02847987870453524430/*/1eGAsTN1HBpJAkeVM57_C7ccp7hbgSz3_ [following]\n",
            "Warning: wildcards not supported in HTTP.\n",
            "--2021-12-10 08:56:10--  https://doc-0k-9o-docs.googleusercontent.com/docs/securesc/ha0ro937gcuc7l7deffksulhg5h7mbp1/ka7fdgpoilp26apiqs4ies07s8iorr6k/1639126500000/02847987870453524430/*/1eGAsTN1HBpJAkeVM57_C7ccp7hbgSz3_\n",
            "Resolving doc-0k-9o-docs.googleusercontent.com (doc-0k-9o-docs.googleusercontent.com)... 173.194.216.132, 2607:f8b0:400c:c13::84\n",
            "Connecting to doc-0k-9o-docs.googleusercontent.com (doc-0k-9o-docs.googleusercontent.com)|173.194.216.132|:443... connected.\n",
            "HTTP request sent, awaiting response... 200 OK\n",
            "Length: 20659344 (20M) [application/x-font-ttf]\n",
            "Saving to: ‘TaipeiSansTCBeta-Regular.ttf’\n",
            "\n",
            "TaipeiSansTCBeta-Re 100%[===================>]  19.70M  --.-KB/s    in 0.09s   \n",
            "\n",
            "2021-12-10 08:56:11 (220 MB/s) - ‘TaipeiSansTCBeta-Regular.ttf’ saved [20659344/20659344]\n",
            "\n"
          ]
        }
      ]
    },
    {
      "cell_type": "code",
      "source": [
        "data = pd.read_csv(\"/content/drive/MyDrive/Jourdeness/data3_project.csv\")\n",
        "data.head()"
      ],
      "metadata": {
        "colab": {
          "base_uri": "https://localhost:8080/",
          "height": 312
        },
        "id": "qPbIA4Yg8eH5",
        "outputId": "69c110b7-f4e3-4468-9b9f-d8b8a12aaa97"
      },
      "execution_count": null,
      "outputs": [
        {
          "output_type": "execute_result",
          "data": {
            "text/html": [
              "<div>\n",
              "<style scoped>\n",
              "    .dataframe tbody tr th:only-of-type {\n",
              "        vertical-align: middle;\n",
              "    }\n",
              "\n",
              "    .dataframe tbody tr th {\n",
              "        vertical-align: top;\n",
              "    }\n",
              "\n",
              "    .dataframe thead th {\n",
              "        text-align: right;\n",
              "    }\n",
              "</style>\n",
              "<table border=\"1\" class=\"dataframe\">\n",
              "  <thead>\n",
              "    <tr style=\"text-align: right;\">\n",
              "      <th></th>\n",
              "      <th>InvoiceNo</th>\n",
              "      <th>StockCode</th>\n",
              "      <th>Description</th>\n",
              "      <th>Quantity</th>\n",
              "      <th>InvoiceDate</th>\n",
              "      <th>UnitPrice</th>\n",
              "      <th>CustomerID</th>\n",
              "      <th>Country</th>\n",
              "      <th>member_start_date</th>\n",
              "      <th>first_trans_date</th>\n",
              "    </tr>\n",
              "  </thead>\n",
              "  <tbody>\n",
              "    <tr>\n",
              "      <th>0</th>\n",
              "      <td>PS5327001158</td>\n",
              "      <td>JA01</td>\n",
              "      <td>晶淬雪潔顏乳100ml</td>\n",
              "      <td>8.00</td>\n",
              "      <td>2019-01-01</td>\n",
              "      <td>1259.00</td>\n",
              "      <td>9100002488768.00</td>\n",
              "      <td>中區</td>\n",
              "      <td>2019-12-09</td>\n",
              "      <td>2018-06-24</td>\n",
              "    </tr>\n",
              "    <tr>\n",
              "      <th>1</th>\n",
              "      <td>PS5335020955</td>\n",
              "      <td>KG06</td>\n",
              "      <td>多肽亮眼乳霜20g-保濕型</td>\n",
              "      <td>8.00</td>\n",
              "      <td>2019-01-01</td>\n",
              "      <td>839.00</td>\n",
              "      <td>9100002556566.00</td>\n",
              "      <td>中區</td>\n",
              "      <td>2018-10-21</td>\n",
              "      <td>2018-10-21</td>\n",
              "    </tr>\n",
              "    <tr>\n",
              "      <th>2</th>\n",
              "      <td>PS5335020955</td>\n",
              "      <td>BJ102</td>\n",
              "      <td>檸檬精油10ml MUI</td>\n",
              "      <td>8.00</td>\n",
              "      <td>2019-01-01</td>\n",
              "      <td>839.00</td>\n",
              "      <td>9100002556566.00</td>\n",
              "      <td>中區</td>\n",
              "      <td>2018-10-21</td>\n",
              "      <td>2018-10-21</td>\n",
              "    </tr>\n",
              "    <tr>\n",
              "      <th>3</th>\n",
              "      <td>PS5335020955</td>\n",
              "      <td>JZA3G1</td>\n",
              "      <td>柚見快樂精油15ml MUI</td>\n",
              "      <td>-8.00</td>\n",
              "      <td>2019-01-01</td>\n",
              "      <td>-1501.00</td>\n",
              "      <td>9100002556566.00</td>\n",
              "      <td>中區</td>\n",
              "      <td>2018-10-21</td>\n",
              "      <td>2018-10-21</td>\n",
              "    </tr>\n",
              "    <tr>\n",
              "      <th>4</th>\n",
              "      <td>PS5444006919</td>\n",
              "      <td>BJ103</td>\n",
              "      <td>細花冬青香氛油10ml MUI</td>\n",
              "      <td>8.00</td>\n",
              "      <td>2019-01-01</td>\n",
              "      <td>672.00</td>\n",
              "      <td>9100002582077.00</td>\n",
              "      <td>南區</td>\n",
              "      <td>2018-12-04</td>\n",
              "      <td>2018-12-04</td>\n",
              "    </tr>\n",
              "  </tbody>\n",
              "</table>\n",
              "</div>"
            ],
            "text/plain": [
              "      InvoiceNo StockCode  ... member_start_date  first_trans_date\n",
              "0  PS5327001158      JA01  ...        2019-12-09        2018-06-24\n",
              "1  PS5335020955      KG06  ...        2018-10-21        2018-10-21\n",
              "2  PS5335020955     BJ102  ...        2018-10-21        2018-10-21\n",
              "3  PS5335020955    JZA3G1  ...        2018-10-21        2018-10-21\n",
              "4  PS5444006919     BJ103  ...        2018-12-04        2018-12-04\n",
              "\n",
              "[5 rows x 10 columns]"
            ]
          },
          "metadata": {},
          "execution_count": 103
        }
      ]
    },
    {
      "cell_type": "code",
      "source": [
        "data.info()"
      ],
      "metadata": {
        "colab": {
          "base_uri": "https://localhost:8080/"
        },
        "id": "q_5Ptn4-M6In",
        "outputId": "a1806302-0062-43bc-a38e-b85af0cee7ce"
      },
      "execution_count": null,
      "outputs": [
        {
          "output_type": "stream",
          "name": "stdout",
          "text": [
            "<class 'pandas.core.frame.DataFrame'>\n",
            "RangeIndex: 1404435 entries, 0 to 1404434\n",
            "Data columns (total 10 columns):\n",
            " #   Column             Non-Null Count    Dtype  \n",
            "---  ------             --------------    -----  \n",
            " 0   InvoiceNo          1404435 non-null  object \n",
            " 1   StockCode          1404435 non-null  object \n",
            " 2   Description        1404435 non-null  object \n",
            " 3   Quantity           1404435 non-null  float64\n",
            " 4   InvoiceDate        1404435 non-null  object \n",
            " 5   UnitPrice          1404435 non-null  float64\n",
            " 6   CustomerID         1403724 non-null  float64\n",
            " 7   Country            1404435 non-null  object \n",
            " 8   member_start_date  1366651 non-null  object \n",
            " 9   first_trans_date   1400412 non-null  object \n",
            "dtypes: float64(3), object(7)\n",
            "memory usage: 107.2+ MB\n"
          ]
        }
      ]
    },
    {
      "cell_type": "code",
      "source": [
        "data.describe()"
      ],
      "metadata": {
        "colab": {
          "base_uri": "https://localhost:8080/",
          "height": 300
        },
        "id": "t0yQ7Rb5NUtr",
        "outputId": "0da4316a-76a1-445a-874f-b0340a49157d"
      },
      "execution_count": null,
      "outputs": [
        {
          "output_type": "execute_result",
          "data": {
            "text/html": [
              "<div>\n",
              "<style scoped>\n",
              "    .dataframe tbody tr th:only-of-type {\n",
              "        vertical-align: middle;\n",
              "    }\n",
              "\n",
              "    .dataframe tbody tr th {\n",
              "        vertical-align: top;\n",
              "    }\n",
              "\n",
              "    .dataframe thead th {\n",
              "        text-align: right;\n",
              "    }\n",
              "</style>\n",
              "<table border=\"1\" class=\"dataframe\">\n",
              "  <thead>\n",
              "    <tr style=\"text-align: right;\">\n",
              "      <th></th>\n",
              "      <th>Quantity</th>\n",
              "      <th>UnitPrice</th>\n",
              "      <th>CustomerID</th>\n",
              "    </tr>\n",
              "  </thead>\n",
              "  <tbody>\n",
              "    <tr>\n",
              "      <th>count</th>\n",
              "      <td>1404435.00</td>\n",
              "      <td>1404435.00</td>\n",
              "      <td>1403724.00</td>\n",
              "    </tr>\n",
              "    <tr>\n",
              "      <th>mean</th>\n",
              "      <td>17.19</td>\n",
              "      <td>2058.17</td>\n",
              "      <td>9100001308747.95</td>\n",
              "    </tr>\n",
              "    <tr>\n",
              "      <th>std</th>\n",
              "      <td>27.39</td>\n",
              "      <td>3036.06</td>\n",
              "      <td>930473.55</td>\n",
              "    </tr>\n",
              "    <tr>\n",
              "      <th>min</th>\n",
              "      <td>-744.00</td>\n",
              "      <td>-55741.00</td>\n",
              "      <td>9100000000061.00</td>\n",
              "    </tr>\n",
              "    <tr>\n",
              "      <th>25%</th>\n",
              "      <td>8.00</td>\n",
              "      <td>558.00</td>\n",
              "      <td>9100000403329.00</td>\n",
              "    </tr>\n",
              "    <tr>\n",
              "      <th>50%</th>\n",
              "      <td>8.00</td>\n",
              "      <td>1054.00</td>\n",
              "      <td>9100001231556.00</td>\n",
              "    </tr>\n",
              "    <tr>\n",
              "      <th>75%</th>\n",
              "      <td>8.00</td>\n",
              "      <td>2192.00</td>\n",
              "      <td>9100002187647.00</td>\n",
              "    </tr>\n",
              "    <tr>\n",
              "      <th>max</th>\n",
              "      <td>7640.00</td>\n",
              "      <td>209559.00</td>\n",
              "      <td>9100003171280.00</td>\n",
              "    </tr>\n",
              "  </tbody>\n",
              "</table>\n",
              "</div>"
            ],
            "text/plain": [
              "        Quantity  UnitPrice       CustomerID\n",
              "count 1404435.00 1404435.00       1403724.00\n",
              "mean       17.19    2058.17 9100001308747.95\n",
              "std        27.39    3036.06        930473.55\n",
              "min      -744.00  -55741.00 9100000000061.00\n",
              "25%         8.00     558.00 9100000403329.00\n",
              "50%         8.00    1054.00 9100001231556.00\n",
              "75%         8.00    2192.00 9100002187647.00\n",
              "max      7640.00  209559.00 9100003171280.00"
            ]
          },
          "metadata": {},
          "execution_count": 105
        }
      ]
    },
    {
      "cell_type": "code",
      "source": [
        "data.isna().any()"
      ],
      "metadata": {
        "colab": {
          "base_uri": "https://localhost:8080/"
        },
        "id": "SXTwzONtPSJE",
        "outputId": "cbcb7502-df2e-4f79-eab6-128bb7853f54"
      },
      "execution_count": null,
      "outputs": [
        {
          "output_type": "execute_result",
          "data": {
            "text/plain": [
              "InvoiceNo            False\n",
              "StockCode            False\n",
              "Description          False\n",
              "Quantity             False\n",
              "InvoiceDate          False\n",
              "UnitPrice            False\n",
              "CustomerID            True\n",
              "Country              False\n",
              "member_start_date     True\n",
              "first_trans_date      True\n",
              "dtype: bool"
            ]
          },
          "metadata": {},
          "execution_count": 106
        }
      ]
    },
    {
      "cell_type": "code",
      "source": [
        "data.drop(data[data['CustomerID'].isnull()].index, inplace=True)\n",
        "data.shape"
      ],
      "metadata": {
        "colab": {
          "base_uri": "https://localhost:8080/"
        },
        "id": "NBUk-0U-Qhov",
        "outputId": "f31b5325-17c0-46f4-ae89-71c63f0c470a"
      },
      "execution_count": null,
      "outputs": [
        {
          "output_type": "execute_result",
          "data": {
            "text/plain": [
              "(1403724, 10)"
            ]
          },
          "metadata": {},
          "execution_count": 107
        }
      ]
    },
    {
      "cell_type": "code",
      "source": [
        "data.loc[(data['Quantity']<0) | (data['UnitPrice']<0)]"
      ],
      "metadata": {
        "colab": {
          "base_uri": "https://localhost:8080/",
          "height": 825
        },
        "id": "a-Fgs-JuRfAm",
        "outputId": "8e3486a1-7bfd-4aca-81bc-591849126e3c"
      },
      "execution_count": null,
      "outputs": [
        {
          "output_type": "execute_result",
          "data": {
            "text/html": [
              "<div>\n",
              "<style scoped>\n",
              "    .dataframe tbody tr th:only-of-type {\n",
              "        vertical-align: middle;\n",
              "    }\n",
              "\n",
              "    .dataframe tbody tr th {\n",
              "        vertical-align: top;\n",
              "    }\n",
              "\n",
              "    .dataframe thead th {\n",
              "        text-align: right;\n",
              "    }\n",
              "</style>\n",
              "<table border=\"1\" class=\"dataframe\">\n",
              "  <thead>\n",
              "    <tr style=\"text-align: right;\">\n",
              "      <th></th>\n",
              "      <th>InvoiceNo</th>\n",
              "      <th>StockCode</th>\n",
              "      <th>Description</th>\n",
              "      <th>Quantity</th>\n",
              "      <th>InvoiceDate</th>\n",
              "      <th>UnitPrice</th>\n",
              "      <th>CustomerID</th>\n",
              "      <th>Country</th>\n",
              "      <th>member_start_date</th>\n",
              "      <th>first_trans_date</th>\n",
              "    </tr>\n",
              "  </thead>\n",
              "  <tbody>\n",
              "    <tr>\n",
              "      <th>3</th>\n",
              "      <td>PS5335020955</td>\n",
              "      <td>JZA3G1</td>\n",
              "      <td>柚見快樂精油15ml MUI</td>\n",
              "      <td>-8.00</td>\n",
              "      <td>2019-01-01</td>\n",
              "      <td>-1501.00</td>\n",
              "      <td>9100002556566.00</td>\n",
              "      <td>中區</td>\n",
              "      <td>2018-10-21</td>\n",
              "      <td>2018-10-21</td>\n",
              "    </tr>\n",
              "    <tr>\n",
              "      <th>19</th>\n",
              "      <td>PS5323017890</td>\n",
              "      <td>K0464B</td>\n",
              "      <td>DC龍血緊緻修護面膜26ml+5g-單包</td>\n",
              "      <td>-56.00</td>\n",
              "      <td>2019-01-01</td>\n",
              "      <td>-1006.00</td>\n",
              "      <td>9100000045758.00</td>\n",
              "      <td>中區</td>\n",
              "      <td>2001-05-20</td>\n",
              "      <td>2012-07-17</td>\n",
              "    </tr>\n",
              "    <tr>\n",
              "      <th>20</th>\n",
              "      <td>PS5323017890</td>\n",
              "      <td>K0464B</td>\n",
              "      <td>DC龍血緊緻修護面膜26ml+5g-單包</td>\n",
              "      <td>-8.00</td>\n",
              "      <td>2019-01-01</td>\n",
              "      <td>-205.00</td>\n",
              "      <td>9100000045758.00</td>\n",
              "      <td>中區</td>\n",
              "      <td>2001-05-20</td>\n",
              "      <td>2012-07-17</td>\n",
              "    </tr>\n",
              "    <tr>\n",
              "      <th>252</th>\n",
              "      <td>PS5381011345</td>\n",
              "      <td>KQ03</td>\n",
              "      <td>玫瑰晶萃露15ml</td>\n",
              "      <td>-8.00</td>\n",
              "      <td>2019-01-01</td>\n",
              "      <td>-1501.00</td>\n",
              "      <td>9100000356694.00</td>\n",
              "      <td>中區</td>\n",
              "      <td>2002-02-03</td>\n",
              "      <td>2012-10-06</td>\n",
              "    </tr>\n",
              "    <tr>\n",
              "      <th>253</th>\n",
              "      <td>PS5381011345</td>\n",
              "      <td>KQ03</td>\n",
              "      <td>玫瑰晶萃露15ml</td>\n",
              "      <td>-8.00</td>\n",
              "      <td>2019-01-01</td>\n",
              "      <td>-1501.00</td>\n",
              "      <td>9100000356694.00</td>\n",
              "      <td>中區</td>\n",
              "      <td>2002-02-03</td>\n",
              "      <td>2012-10-06</td>\n",
              "    </tr>\n",
              "    <tr>\n",
              "      <th>...</th>\n",
              "      <td>...</td>\n",
              "      <td>...</td>\n",
              "      <td>...</td>\n",
              "      <td>...</td>\n",
              "      <td>...</td>\n",
              "      <td>...</td>\n",
              "      <td>...</td>\n",
              "      <td>...</td>\n",
              "      <td>...</td>\n",
              "      <td>...</td>\n",
              "    </tr>\n",
              "    <tr>\n",
              "      <th>1404039</th>\n",
              "      <td>PS5217034487</td>\n",
              "      <td>JAA3G3</td>\n",
              "      <td>膠原蛋白青春精華94%原液60ml</td>\n",
              "      <td>-8.00</td>\n",
              "      <td>2020-12-31</td>\n",
              "      <td>-2031.00</td>\n",
              "      <td>9100003026129.00</td>\n",
              "      <td>台北B區</td>\n",
              "      <td>2020-12-10</td>\n",
              "      <td>2020-11-23</td>\n",
              "    </tr>\n",
              "    <tr>\n",
              "      <th>1404040</th>\n",
              "      <td>PS5217034487</td>\n",
              "      <td>JAA3G2</td>\n",
              "      <td>玻尿酸超保濕精華96%原液60ml</td>\n",
              "      <td>-8.00</td>\n",
              "      <td>2020-12-31</td>\n",
              "      <td>-2032.00</td>\n",
              "      <td>9100003026129.00</td>\n",
              "      <td>台北B區</td>\n",
              "      <td>2020-12-10</td>\n",
              "      <td>2020-11-23</td>\n",
              "    </tr>\n",
              "    <tr>\n",
              "      <th>1404192</th>\n",
              "      <td>PR9310000260</td>\n",
              "      <td>ENAA01B002</td>\n",
              "      <td>新逆時光藍新寶石亮白全臉單堂(單堂會員)</td>\n",
              "      <td>-48.00</td>\n",
              "      <td>2020-12-31</td>\n",
              "      <td>-12941.00</td>\n",
              "      <td>9100002311295.00</td>\n",
              "      <td>佐登微爾</td>\n",
              "      <td>2018-05-05</td>\n",
              "      <td>2017-04-16</td>\n",
              "    </tr>\n",
              "    <tr>\n",
              "      <th>1404193</th>\n",
              "      <td>PR9310000260</td>\n",
              "      <td>ENBA01B002</td>\n",
              "      <td>新晶透亮白超皮秒透亮美肌局部單堂(單堂會員)</td>\n",
              "      <td>-48.00</td>\n",
              "      <td>2020-12-31</td>\n",
              "      <td>-9941.00</td>\n",
              "      <td>9100002311295.00</td>\n",
              "      <td>佐登微爾</td>\n",
              "      <td>2018-05-05</td>\n",
              "      <td>2017-04-16</td>\n",
              "    </tr>\n",
              "    <tr>\n",
              "      <th>1404194</th>\n",
              "      <td>PR9310000260</td>\n",
              "      <td>ENBD01E001</td>\n",
              "      <td>晶透亮白超皮秒美肌加強版(S1 S2 S3)(特惠)</td>\n",
              "      <td>-8.00</td>\n",
              "      <td>2020-12-31</td>\n",
              "      <td>-6939.00</td>\n",
              "      <td>9100002311295.00</td>\n",
              "      <td>佐登微爾</td>\n",
              "      <td>2018-05-05</td>\n",
              "      <td>2017-04-16</td>\n",
              "    </tr>\n",
              "  </tbody>\n",
              "</table>\n",
              "<p>6612 rows × 10 columns</p>\n",
              "</div>"
            ],
            "text/plain": [
              "            InvoiceNo   StockCode  ... member_start_date  first_trans_date\n",
              "3        PS5335020955      JZA3G1  ...        2018-10-21        2018-10-21\n",
              "19       PS5323017890      K0464B  ...        2001-05-20        2012-07-17\n",
              "20       PS5323017890      K0464B  ...        2001-05-20        2012-07-17\n",
              "252      PS5381011345        KQ03  ...        2002-02-03        2012-10-06\n",
              "253      PS5381011345        KQ03  ...        2002-02-03        2012-10-06\n",
              "...               ...         ...  ...               ...               ...\n",
              "1404039  PS5217034487      JAA3G3  ...        2020-12-10        2020-11-23\n",
              "1404040  PS5217034487      JAA3G2  ...        2020-12-10        2020-11-23\n",
              "1404192  PR9310000260  ENAA01B002  ...        2018-05-05        2017-04-16\n",
              "1404193  PR9310000260  ENBA01B002  ...        2018-05-05        2017-04-16\n",
              "1404194  PR9310000260  ENBD01E001  ...        2018-05-05        2017-04-16\n",
              "\n",
              "[6612 rows x 10 columns]"
            ]
          },
          "metadata": {},
          "execution_count": 108
        }
      ]
    },
    {
      "cell_type": "code",
      "source": [
        "data['Revenue'] = data['Quantity'] * abs(data['UnitPrice'])\n",
        "data['Revenue']"
      ],
      "metadata": {
        "colab": {
          "base_uri": "https://localhost:8080/"
        },
        "id": "vgFDe00aR7FV",
        "outputId": "5124844f-f12f-40c6-827d-ca204030417a"
      },
      "execution_count": null,
      "outputs": [
        {
          "output_type": "execute_result",
          "data": {
            "text/plain": [
              "0          10072.00\n",
              "1           6712.00\n",
              "2           6712.00\n",
              "3         -12008.00\n",
              "4           5376.00\n",
              "             ...   \n",
              "1404430    47136.00\n",
              "1404431     2472.00\n",
              "1404432     8752.00\n",
              "1404433     2640.00\n",
              "1404434     3528.00\n",
              "Name: Revenue, Length: 1403724, dtype: float64"
            ]
          },
          "metadata": {},
          "execution_count": 109
        }
      ]
    },
    {
      "cell_type": "code",
      "source": [
        "data.head()"
      ],
      "metadata": {
        "colab": {
          "base_uri": "https://localhost:8080/",
          "height": 312
        },
        "id": "QoPN2e_0SbgZ",
        "outputId": "cbe38a90-2bb7-48c0-d701-9e9e71f03639"
      },
      "execution_count": null,
      "outputs": [
        {
          "output_type": "execute_result",
          "data": {
            "text/html": [
              "<div>\n",
              "<style scoped>\n",
              "    .dataframe tbody tr th:only-of-type {\n",
              "        vertical-align: middle;\n",
              "    }\n",
              "\n",
              "    .dataframe tbody tr th {\n",
              "        vertical-align: top;\n",
              "    }\n",
              "\n",
              "    .dataframe thead th {\n",
              "        text-align: right;\n",
              "    }\n",
              "</style>\n",
              "<table border=\"1\" class=\"dataframe\">\n",
              "  <thead>\n",
              "    <tr style=\"text-align: right;\">\n",
              "      <th></th>\n",
              "      <th>InvoiceNo</th>\n",
              "      <th>StockCode</th>\n",
              "      <th>Description</th>\n",
              "      <th>Quantity</th>\n",
              "      <th>InvoiceDate</th>\n",
              "      <th>UnitPrice</th>\n",
              "      <th>CustomerID</th>\n",
              "      <th>Country</th>\n",
              "      <th>member_start_date</th>\n",
              "      <th>first_trans_date</th>\n",
              "      <th>Revenue</th>\n",
              "    </tr>\n",
              "  </thead>\n",
              "  <tbody>\n",
              "    <tr>\n",
              "      <th>0</th>\n",
              "      <td>PS5327001158</td>\n",
              "      <td>JA01</td>\n",
              "      <td>晶淬雪潔顏乳100ml</td>\n",
              "      <td>8.00</td>\n",
              "      <td>2019-01-01</td>\n",
              "      <td>1259.00</td>\n",
              "      <td>9100002488768.00</td>\n",
              "      <td>中區</td>\n",
              "      <td>2019-12-09</td>\n",
              "      <td>2018-06-24</td>\n",
              "      <td>10072.00</td>\n",
              "    </tr>\n",
              "    <tr>\n",
              "      <th>1</th>\n",
              "      <td>PS5335020955</td>\n",
              "      <td>KG06</td>\n",
              "      <td>多肽亮眼乳霜20g-保濕型</td>\n",
              "      <td>8.00</td>\n",
              "      <td>2019-01-01</td>\n",
              "      <td>839.00</td>\n",
              "      <td>9100002556566.00</td>\n",
              "      <td>中區</td>\n",
              "      <td>2018-10-21</td>\n",
              "      <td>2018-10-21</td>\n",
              "      <td>6712.00</td>\n",
              "    </tr>\n",
              "    <tr>\n",
              "      <th>2</th>\n",
              "      <td>PS5335020955</td>\n",
              "      <td>BJ102</td>\n",
              "      <td>檸檬精油10ml MUI</td>\n",
              "      <td>8.00</td>\n",
              "      <td>2019-01-01</td>\n",
              "      <td>839.00</td>\n",
              "      <td>9100002556566.00</td>\n",
              "      <td>中區</td>\n",
              "      <td>2018-10-21</td>\n",
              "      <td>2018-10-21</td>\n",
              "      <td>6712.00</td>\n",
              "    </tr>\n",
              "    <tr>\n",
              "      <th>3</th>\n",
              "      <td>PS5335020955</td>\n",
              "      <td>JZA3G1</td>\n",
              "      <td>柚見快樂精油15ml MUI</td>\n",
              "      <td>-8.00</td>\n",
              "      <td>2019-01-01</td>\n",
              "      <td>-1501.00</td>\n",
              "      <td>9100002556566.00</td>\n",
              "      <td>中區</td>\n",
              "      <td>2018-10-21</td>\n",
              "      <td>2018-10-21</td>\n",
              "      <td>-12008.00</td>\n",
              "    </tr>\n",
              "    <tr>\n",
              "      <th>4</th>\n",
              "      <td>PS5444006919</td>\n",
              "      <td>BJ103</td>\n",
              "      <td>細花冬青香氛油10ml MUI</td>\n",
              "      <td>8.00</td>\n",
              "      <td>2019-01-01</td>\n",
              "      <td>672.00</td>\n",
              "      <td>9100002582077.00</td>\n",
              "      <td>南區</td>\n",
              "      <td>2018-12-04</td>\n",
              "      <td>2018-12-04</td>\n",
              "      <td>5376.00</td>\n",
              "    </tr>\n",
              "  </tbody>\n",
              "</table>\n",
              "</div>"
            ],
            "text/plain": [
              "      InvoiceNo StockCode  ... first_trans_date   Revenue\n",
              "0  PS5327001158      JA01  ...       2018-06-24  10072.00\n",
              "1  PS5335020955      KG06  ...       2018-10-21   6712.00\n",
              "2  PS5335020955     BJ102  ...       2018-10-21   6712.00\n",
              "3  PS5335020955    JZA3G1  ...       2018-10-21 -12008.00\n",
              "4  PS5444006919     BJ103  ...       2018-12-04   5376.00\n",
              "\n",
              "[5 rows x 11 columns]"
            ]
          },
          "metadata": {},
          "execution_count": 110
        }
      ]
    },
    {
      "cell_type": "code",
      "source": [
        "data.describe()"
      ],
      "metadata": {
        "colab": {
          "base_uri": "https://localhost:8080/",
          "height": 300
        },
        "id": "2-uAMcfSSi3H",
        "outputId": "4e176e9d-f3aa-489d-ead4-a65ee4a8cb3d"
      },
      "execution_count": null,
      "outputs": [
        {
          "output_type": "execute_result",
          "data": {
            "text/html": [
              "<div>\n",
              "<style scoped>\n",
              "    .dataframe tbody tr th:only-of-type {\n",
              "        vertical-align: middle;\n",
              "    }\n",
              "\n",
              "    .dataframe tbody tr th {\n",
              "        vertical-align: top;\n",
              "    }\n",
              "\n",
              "    .dataframe thead th {\n",
              "        text-align: right;\n",
              "    }\n",
              "</style>\n",
              "<table border=\"1\" class=\"dataframe\">\n",
              "  <thead>\n",
              "    <tr style=\"text-align: right;\">\n",
              "      <th></th>\n",
              "      <th>Quantity</th>\n",
              "      <th>UnitPrice</th>\n",
              "      <th>CustomerID</th>\n",
              "      <th>Revenue</th>\n",
              "    </tr>\n",
              "  </thead>\n",
              "  <tbody>\n",
              "    <tr>\n",
              "      <th>count</th>\n",
              "      <td>1403724.00</td>\n",
              "      <td>1403724.00</td>\n",
              "      <td>1403724.00</td>\n",
              "      <td>1403724.00</td>\n",
              "    </tr>\n",
              "    <tr>\n",
              "      <th>mean</th>\n",
              "      <td>17.18</td>\n",
              "      <td>2058.70</td>\n",
              "      <td>9100001308747.95</td>\n",
              "      <td>82668.84</td>\n",
              "    </tr>\n",
              "    <tr>\n",
              "      <th>std</th>\n",
              "      <td>26.34</td>\n",
              "      <td>3035.94</td>\n",
              "      <td>930473.55</td>\n",
              "      <td>922440.49</td>\n",
              "    </tr>\n",
              "    <tr>\n",
              "      <th>min</th>\n",
              "      <td>-744.00</td>\n",
              "      <td>-55741.00</td>\n",
              "      <td>9100000000061.00</td>\n",
              "      <td>-41471304.00</td>\n",
              "    </tr>\n",
              "    <tr>\n",
              "      <th>25%</th>\n",
              "      <td>8.00</td>\n",
              "      <td>558.00</td>\n",
              "      <td>9100000403329.00</td>\n",
              "      <td>4672.00</td>\n",
              "    </tr>\n",
              "    <tr>\n",
              "      <th>50%</th>\n",
              "      <td>8.00</td>\n",
              "      <td>1057.00</td>\n",
              "      <td>9100001231556.00</td>\n",
              "      <td>8752.00</td>\n",
              "    </tr>\n",
              "    <tr>\n",
              "      <th>75%</th>\n",
              "      <td>8.00</td>\n",
              "      <td>2203.00</td>\n",
              "      <td>9100002187647.00</td>\n",
              "      <td>25904.00</td>\n",
              "    </tr>\n",
              "    <tr>\n",
              "      <th>max</th>\n",
              "      <td>3640.00</td>\n",
              "      <td>209559.00</td>\n",
              "      <td>9100003171280.00</td>\n",
              "      <td>702441768.00</td>\n",
              "    </tr>\n",
              "  </tbody>\n",
              "</table>\n",
              "</div>"
            ],
            "text/plain": [
              "        Quantity  UnitPrice       CustomerID      Revenue\n",
              "count 1403724.00 1403724.00       1403724.00   1403724.00\n",
              "mean       17.18    2058.70 9100001308747.95     82668.84\n",
              "std        26.34    3035.94        930473.55    922440.49\n",
              "min      -744.00  -55741.00 9100000000061.00 -41471304.00\n",
              "25%         8.00     558.00 9100000403329.00      4672.00\n",
              "50%         8.00    1057.00 9100001231556.00      8752.00\n",
              "75%         8.00    2203.00 9100002187647.00     25904.00\n",
              "max      3640.00  209559.00 9100003171280.00 702441768.00"
            ]
          },
          "metadata": {},
          "execution_count": 111
        }
      ]
    },
    {
      "cell_type": "code",
      "source": [
        "data['Revenue'].plot.box()"
      ],
      "metadata": {
        "colab": {
          "base_uri": "https://localhost:8080/",
          "height": 293
        },
        "id": "rRNLMtFMSwXv",
        "outputId": "2821265f-1c6d-4b67-8830-aa02fccea6f3"
      },
      "execution_count": null,
      "outputs": [
        {
          "output_type": "execute_result",
          "data": {
            "text/plain": [
              "<matplotlib.axes._subplots.AxesSubplot at 0x7f4cce098050>"
            ]
          },
          "metadata": {},
          "execution_count": 112
        },
        {
          "output_type": "display_data",
          "data": {
            "image/png": "[encoded data removed]",
            "text/plain": [
              "<Figure size 432x288 with 1 Axes>"
            ]
          },
          "metadata": {
            "needs_background": "light"
          }
        }
      ]
    },
    {
      "cell_type": "code",
      "source": [
        "data1 = data.copy()"
      ],
      "metadata": {
        "id": "0v1v2t0VT-2K"
      },
      "execution_count": null,
      "outputs": []
    },
    {
      "cell_type": "code",
      "source": [
        "#用IQR概念去除Outlier\n",
        "def outlier(datacolumn):\n",
        "  Q1,Q3 = np.percentile(datacolumn,[25,75])\n",
        "  IQR = Q3-Q1\n",
        "  lower_range = Q1-1.5*IQR\n",
        "  high_range = Q3+1.5*IQR\n",
        "  return lower_range, high_range\n",
        "\n",
        "lower, higher = outlier(data1['Revenue'])\n",
        "data1[(data1['Revenue']<lower) | (data1['Revenue']>higher)]"
      ],
      "metadata": {
        "colab": {
          "base_uri": "https://localhost:8080/",
          "height": 721
        },
        "id": "1cxWeX4xTAwd",
        "outputId": "59f597a3-123d-4643-ac8b-478552117852"
      },
      "execution_count": null,
      "outputs": [
        {
          "output_type": "execute_result",
          "data": {
            "text/html": [
              "<div>\n",
              "<style scoped>\n",
              "    .dataframe tbody tr th:only-of-type {\n",
              "        vertical-align: middle;\n",
              "    }\n",
              "\n",
              "    .dataframe tbody tr th {\n",
              "        vertical-align: top;\n",
              "    }\n",
              "\n",
              "    .dataframe thead th {\n",
              "        text-align: right;\n",
              "    }\n",
              "</style>\n",
              "<table border=\"1\" class=\"dataframe\">\n",
              "  <thead>\n",
              "    <tr style=\"text-align: right;\">\n",
              "      <th></th>\n",
              "      <th>InvoiceNo</th>\n",
              "      <th>StockCode</th>\n",
              "      <th>Description</th>\n",
              "      <th>Quantity</th>\n",
              "      <th>InvoiceDate</th>\n",
              "      <th>UnitPrice</th>\n",
              "      <th>CustomerID</th>\n",
              "      <th>Country</th>\n",
              "      <th>member_start_date</th>\n",
              "      <th>first_trans_date</th>\n",
              "      <th>Revenue</th>\n",
              "    </tr>\n",
              "  </thead>\n",
              "  <tbody>\n",
              "    <tr>\n",
              "      <th>9</th>\n",
              "      <td>PS5262016031</td>\n",
              "      <td>HA89A01</td>\n",
              "      <td>肌因彈潤課程單堂</td>\n",
              "      <td>48.00</td>\n",
              "      <td>2019-01-01</td>\n",
              "      <td>9559.00</td>\n",
              "      <td>9100000407160.00</td>\n",
              "      <td>竹區</td>\n",
              "      <td>2007-01-02</td>\n",
              "      <td>2012-07-28</td>\n",
              "      <td>458832.00</td>\n",
              "    </tr>\n",
              "    <tr>\n",
              "      <th>10</th>\n",
              "      <td>PS5262016032</td>\n",
              "      <td>HB90A01</td>\n",
              "      <td>全背順氣活力SPA課程單堂</td>\n",
              "      <td>96.00</td>\n",
              "      <td>2019-01-01</td>\n",
              "      <td>11559.00</td>\n",
              "      <td>9100000407160.00</td>\n",
              "      <td>竹區</td>\n",
              "      <td>2007-01-02</td>\n",
              "      <td>2012-07-28</td>\n",
              "      <td>1109664.00</td>\n",
              "    </tr>\n",
              "    <tr>\n",
              "      <th>13</th>\n",
              "      <td>PS530A050714</td>\n",
              "      <td>FB40A01</td>\n",
              "      <td>旗艦暖宮腹活SPA課程單堂</td>\n",
              "      <td>96.00</td>\n",
              "      <td>2019-01-01</td>\n",
              "      <td>13259.00</td>\n",
              "      <td>9100002554883.00</td>\n",
              "      <td>中區</td>\n",
              "      <td>2018-10-18</td>\n",
              "      <td>2018-10-18</td>\n",
              "      <td>1272864.00</td>\n",
              "    </tr>\n",
              "    <tr>\n",
              "      <th>19</th>\n",
              "      <td>PS5323017890</td>\n",
              "      <td>K0464B</td>\n",
              "      <td>DC龍血緊緻修護面膜26ml+5g-單包</td>\n",
              "      <td>-56.00</td>\n",
              "      <td>2019-01-01</td>\n",
              "      <td>-1006.00</td>\n",
              "      <td>9100000045758.00</td>\n",
              "      <td>中區</td>\n",
              "      <td>2001-05-20</td>\n",
              "      <td>2012-07-17</td>\n",
              "      <td>-56336.00</td>\n",
              "    </tr>\n",
              "    <tr>\n",
              "      <th>31</th>\n",
              "      <td>PS5213017253</td>\n",
              "      <td>HA50A01</td>\n",
              "      <td>胜肽美顏SPA護理單堂</td>\n",
              "      <td>48.00</td>\n",
              "      <td>2019-01-01</td>\n",
              "      <td>6059.00</td>\n",
              "      <td>9100001531076.00</td>\n",
              "      <td>台北B區</td>\n",
              "      <td>2013-11-23</td>\n",
              "      <td>2013-04-09</td>\n",
              "      <td>290832.00</td>\n",
              "    </tr>\n",
              "    <tr>\n",
              "      <th>...</th>\n",
              "      <td>...</td>\n",
              "      <td>...</td>\n",
              "      <td>...</td>\n",
              "      <td>...</td>\n",
              "      <td>...</td>\n",
              "      <td>...</td>\n",
              "      <td>...</td>\n",
              "      <td>...</td>\n",
              "      <td>...</td>\n",
              "      <td>...</td>\n",
              "      <td>...</td>\n",
              "    </tr>\n",
              "    <tr>\n",
              "      <th>1404400</th>\n",
              "      <td>PS5324024939</td>\n",
              "      <td>JAA3G2</td>\n",
              "      <td>玻尿酸超保濕精華96%原液60ml</td>\n",
              "      <td>16.00</td>\n",
              "      <td>2020-12-31</td>\n",
              "      <td>4239.00</td>\n",
              "      <td>9100000043037.00</td>\n",
              "      <td>中區</td>\n",
              "      <td>2004-11-11</td>\n",
              "      <td>2012-07-23</td>\n",
              "      <td>67824.00</td>\n",
              "    </tr>\n",
              "    <tr>\n",
              "      <th>1404401</th>\n",
              "      <td>PS5324024939</td>\n",
              "      <td>KQ02</td>\n",
              "      <td>玫瑰晶萃活膚液130ml</td>\n",
              "      <td>24.00</td>\n",
              "      <td>2020-12-31</td>\n",
              "      <td>5395.00</td>\n",
              "      <td>9100000043037.00</td>\n",
              "      <td>中區</td>\n",
              "      <td>2004-11-11</td>\n",
              "      <td>2012-07-23</td>\n",
              "      <td>129480.00</td>\n",
              "    </tr>\n",
              "    <tr>\n",
              "      <th>1404418</th>\n",
              "      <td>PS5324024940</td>\n",
              "      <td>KQ06</td>\n",
              "      <td>玫瑰晶萃瞬效霜30ml</td>\n",
              "      <td>16.00</td>\n",
              "      <td>2020-12-31</td>\n",
              "      <td>4083.00</td>\n",
              "      <td>9100000706055.00</td>\n",
              "      <td>中區</td>\n",
              "      <td>2011-12-21</td>\n",
              "      <td>2014-03-10</td>\n",
              "      <td>65328.00</td>\n",
              "    </tr>\n",
              "    <tr>\n",
              "      <th>1404421</th>\n",
              "      <td>PS5324024940</td>\n",
              "      <td>MAA7G1</td>\n",
              "      <td>白金密集煥白面膜18ml*6pcs</td>\n",
              "      <td>32.00</td>\n",
              "      <td>2020-12-31</td>\n",
              "      <td>6923.00</td>\n",
              "      <td>9100000706055.00</td>\n",
              "      <td>中區</td>\n",
              "      <td>2011-12-21</td>\n",
              "      <td>2014-03-10</td>\n",
              "      <td>221536.00</td>\n",
              "    </tr>\n",
              "    <tr>\n",
              "      <th>1404424</th>\n",
              "      <td>PS5324024941</td>\n",
              "      <td>WD096</td>\n",
              "      <td>緊緻保濕裸膚羽翼面膜25ml-零售單包</td>\n",
              "      <td>48.00</td>\n",
              "      <td>2020-12-31</td>\n",
              "      <td>3354.00</td>\n",
              "      <td>9100000595826.00</td>\n",
              "      <td>中區</td>\n",
              "      <td>2010-03-15</td>\n",
              "      <td>2012-07-11</td>\n",
              "      <td>160992.00</td>\n",
              "    </tr>\n",
              "  </tbody>\n",
              "</table>\n",
              "<p>222528 rows × 11 columns</p>\n",
              "</div>"
            ],
            "text/plain": [
              "            InvoiceNo StockCode  ... first_trans_date    Revenue\n",
              "9        PS5262016031   HA89A01  ...       2012-07-28  458832.00\n",
              "10       PS5262016032   HB90A01  ...       2012-07-28 1109664.00\n",
              "13       PS530A050714   FB40A01  ...       2018-10-18 1272864.00\n",
              "19       PS5323017890    K0464B  ...       2012-07-17  -56336.00\n",
              "31       PS5213017253   HA50A01  ...       2013-04-09  290832.00\n",
              "...               ...       ...  ...              ...        ...\n",
              "1404400  PS5324024939    JAA3G2  ...       2012-07-23   67824.00\n",
              "1404401  PS5324024939      KQ02  ...       2012-07-23  129480.00\n",
              "1404418  PS5324024940      KQ06  ...       2014-03-10   65328.00\n",
              "1404421  PS5324024940    MAA7G1  ...       2014-03-10  221536.00\n",
              "1404424  PS5324024941     WD096  ...       2012-07-11  160992.00\n",
              "\n",
              "[222528 rows x 11 columns]"
            ]
          },
          "metadata": {},
          "execution_count": 114
        }
      ]
    },
    {
      "cell_type": "code",
      "source": [
        "data1.drop(data1[(data1['Revenue']<lower) | (data1['Revenue']>higher)].index, inplace=True)\n",
        "data1.shape"
      ],
      "metadata": {
        "colab": {
          "base_uri": "https://localhost:8080/"
        },
        "id": "r1nholZGX-h0",
        "outputId": "3163afdb-e39e-48cb-b82b-90f1cf4f4cae"
      },
      "execution_count": null,
      "outputs": [
        {
          "output_type": "execute_result",
          "data": {
            "text/plain": [
              "(1181196, 11)"
            ]
          },
          "metadata": {},
          "execution_count": 115
        }
      ]
    },
    {
      "cell_type": "code",
      "source": [
        "fig, ax = plt.subplots(1,2,figsize=(18,8))\n",
        "data1['Revenue'].plot.box(ax=ax[0])\n",
        "ax[0].set_title('Revenue box')\n",
        "data1['Revenue'].plot.hist(ax=ax[1])\n",
        "ax[1].set_title('Revenue hist')\n",
        "plt.show()"
      ],
      "metadata": {
        "colab": {
          "base_uri": "https://localhost:8080/",
          "height": 419
        },
        "id": "Fk9SG15IYXLP",
        "outputId": "ef7aad78-cebd-4f50-a935-5caecefd244d"
      },
      "execution_count": null,
      "outputs": [
        {
          "output_type": "display_data",
          "data": {
            "image/png": "[encoded data removed]",
            "text/plain": [
              "<Figure size 1296x576 with 2 Axes>"
            ]
          },
          "metadata": {
            "needs_background": "light"
          }
        }
      ]
    },
    {
      "cell_type": "markdown",
      "source": [
        "### 請畫出每個區域的收入分布圖(條狀圖)"
      ],
      "metadata": {
        "id": "N5W6KWPFaYXB"
      }
    },
    {
      "cell_type": "code",
      "source": [
        "data1.Country.value_counts"
      ],
      "metadata": {
        "colab": {
          "base_uri": "https://localhost:8080/"
        },
        "id": "R3p_0kq9YyC-",
        "outputId": "62296636-09e3-42b7-a57c-f6ed7d40856d"
      },
      "execution_count": null,
      "outputs": [
        {
          "output_type": "execute_result",
          "data": {
            "text/plain": [
              "<bound method IndexOpsMixin.value_counts of 0          中區\n",
              "1          中區\n",
              "2          中區\n",
              "3          中區\n",
              "4          南區\n",
              "           ..\n",
              "1404430    中區\n",
              "1404431    竹區\n",
              "1404432    竹區\n",
              "1404433    竹區\n",
              "1404434    竹區\n",
              "Name: Country, Length: 1181196, dtype: object>"
            ]
          },
          "metadata": {},
          "execution_count": 117
        }
      ]
    },
    {
      "cell_type": "code",
      "source": [
        "country_revenue = data1.groupby(['Country'])['Revenue'].sum().reset_index()\n",
        "country_revenue"
      ],
      "metadata": {
        "colab": {
          "base_uri": "https://localhost:8080/",
          "height": 331
        },
        "id": "wadv349pa_Fz",
        "outputId": "bdd5b32a-1a9f-4b6b-f14c-cb0d29116ee8"
      },
      "execution_count": null,
      "outputs": [
        {
          "output_type": "execute_result",
          "data": {
            "text/html": [
              "<div>\n",
              "<style scoped>\n",
              "    .dataframe tbody tr th:only-of-type {\n",
              "        vertical-align: middle;\n",
              "    }\n",
              "\n",
              "    .dataframe tbody tr th {\n",
              "        vertical-align: top;\n",
              "    }\n",
              "\n",
              "    .dataframe thead th {\n",
              "        text-align: right;\n",
              "    }\n",
              "</style>\n",
              "<table border=\"1\" class=\"dataframe\">\n",
              "  <thead>\n",
              "    <tr style=\"text-align: right;\">\n",
              "      <th></th>\n",
              "      <th>Country</th>\n",
              "      <th>Revenue</th>\n",
              "    </tr>\n",
              "  </thead>\n",
              "  <tbody>\n",
              "    <tr>\n",
              "      <th>0</th>\n",
              "      <td>中區</td>\n",
              "      <td>2823219968.00</td>\n",
              "    </tr>\n",
              "    <tr>\n",
              "      <th>1</th>\n",
              "      <td>佐登微爾</td>\n",
              "      <td>62912024.00</td>\n",
              "    </tr>\n",
              "    <tr>\n",
              "      <th>2</th>\n",
              "      <td>南區</td>\n",
              "      <td>1397659152.00</td>\n",
              "    </tr>\n",
              "    <tr>\n",
              "      <th>3</th>\n",
              "      <td>台北A區</td>\n",
              "      <td>2175803848.00</td>\n",
              "    </tr>\n",
              "    <tr>\n",
              "      <th>4</th>\n",
              "      <td>台北B區</td>\n",
              "      <td>1779395376.00</td>\n",
              "    </tr>\n",
              "    <tr>\n",
              "      <th>5</th>\n",
              "      <td>彰雲區</td>\n",
              "      <td>1232884144.00</td>\n",
              "    </tr>\n",
              "    <tr>\n",
              "      <th>6</th>\n",
              "      <td>竹區</td>\n",
              "      <td>1372911816.00</td>\n",
              "    </tr>\n",
              "    <tr>\n",
              "      <th>7</th>\n",
              "      <td>總管理處</td>\n",
              "      <td>60226184.00</td>\n",
              "    </tr>\n",
              "    <tr>\n",
              "      <th>8</th>\n",
              "      <td>高屏全區</td>\n",
              "      <td>2134883560.00</td>\n",
              "    </tr>\n",
              "  </tbody>\n",
              "</table>\n",
              "</div>"
            ],
            "text/plain": [
              "  Country       Revenue\n",
              "0      中區 2823219968.00\n",
              "1    佐登微爾   62912024.00\n",
              "2      南區 1397659152.00\n",
              "3    台北A區 2175803848.00\n",
              "4    台北B區 1779395376.00\n",
              "5     彰雲區 1232884144.00\n",
              "6      竹區 1372911816.00\n",
              "7    總管理處   60226184.00\n",
              "8    高屏全區 2134883560.00"
            ]
          },
          "metadata": {},
          "execution_count": 118
        }
      ]
    },
    {
      "cell_type": "code",
      "source": [
        "fig, ax = plt.subplots(figsize=(16,6))\n",
        "sns.barplot(x='Country', y='Revenue', data=country_revenue)\n",
        "plt.show()"
      ],
      "metadata": {
        "colab": {
          "base_uri": "https://localhost:8080/",
          "height": 378
        },
        "id": "1khIYZZecu6N",
        "outputId": "e1b78e27-c2fe-4d60-ee45-83669d46edfb"
      },
      "execution_count": null,
      "outputs": [
        {
          "output_type": "display_data",
          "data": {
            "image/png": "[encoded data removed]",
            "text/plain": [
              "<Figure size 1152x432 with 1 Axes>"
            ]
          },
          "metadata": {
            "needs_background": "light"
          }
        }
      ]
    },
    {
      "cell_type": "markdown",
      "source": [
        "### 找出總收益最高的產品或課程，並用圓餅圖與折線圖呈現在每個地區的收入分布狀況"
      ],
      "metadata": {
        "id": "iVYe3Hinvw1n"
      }
    },
    {
      "cell_type": "code",
      "source": [
        "find_best_revenue = data1.groupby(['Description'])['Revenue'].sum().reset_index()\n",
        "find_best_revenue"
      ],
      "metadata": {
        "colab": {
          "base_uri": "https://localhost:8080/",
          "height": 423
        },
        "id": "OOk5pPdAwKJH",
        "outputId": "d5987d83-eb5a-4101-eede-5136c657e8e2"
      },
      "execution_count": null,
      "outputs": [
        {
          "output_type": "execute_result",
          "data": {
            "text/html": [
              "<div>\n",
              "<style scoped>\n",
              "    .dataframe tbody tr th:only-of-type {\n",
              "        vertical-align: middle;\n",
              "    }\n",
              "\n",
              "    .dataframe tbody tr th {\n",
              "        vertical-align: top;\n",
              "    }\n",
              "\n",
              "    .dataframe thead th {\n",
              "        text-align: right;\n",
              "    }\n",
              "</style>\n",
              "<table border=\"1\" class=\"dataframe\">\n",
              "  <thead>\n",
              "    <tr style=\"text-align: right;\">\n",
              "      <th></th>\n",
              "      <th>Description</th>\n",
              "      <th>Revenue</th>\n",
              "    </tr>\n",
              "  </thead>\n",
              "  <tbody>\n",
              "    <tr>\n",
              "      <th>0</th>\n",
              "      <td>(3.0 )腸道淨化3.0課程單堂</td>\n",
              "      <td>42561328.00</td>\n",
              "    </tr>\n",
              "    <tr>\n",
              "      <th>1</th>\n",
              "      <td>(3.0)旗艦腸道淨化3.0課程單堂</td>\n",
              "      <td>703856.00</td>\n",
              "    </tr>\n",
              "    <tr>\n",
              "      <th>2</th>\n",
              "      <td>(VIP)足部玫瑰晶萃瞬效保養課程單堂</td>\n",
              "      <td>12272.00</td>\n",
              "    </tr>\n",
              "    <tr>\n",
              "      <th>3</th>\n",
              "      <td>(寵愛御藏)肌因彈潤課程單堂</td>\n",
              "      <td>3026632.00</td>\n",
              "    </tr>\n",
              "    <tr>\n",
              "      <th>4</th>\n",
              "      <td>(新)溫熱刮痧課程單堂</td>\n",
              "      <td>88386960.00</td>\n",
              "    </tr>\n",
              "    <tr>\n",
              "      <th>...</th>\n",
              "      <td>...</td>\n",
              "      <td>...</td>\n",
              "    </tr>\n",
              "    <tr>\n",
              "      <th>770</th>\n",
              "      <td>龍血求麗修護霜5ml-贈品</td>\n",
              "      <td>722536.00</td>\n",
              "    </tr>\n",
              "    <tr>\n",
              "      <th>771</th>\n",
              "      <td>龍血求麗精油手工皂100g</td>\n",
              "      <td>2753792.00</td>\n",
              "    </tr>\n",
              "    <tr>\n",
              "      <th>772</th>\n",
              "      <td>龍血求麗精油護手霜30ml</td>\n",
              "      <td>40624.00</td>\n",
              "    </tr>\n",
              "    <tr>\n",
              "      <th>773</th>\n",
              "      <td>３鑽白奢華面膜-10包</td>\n",
              "      <td>13408.00</td>\n",
              "    </tr>\n",
              "    <tr>\n",
              "      <th>774</th>\n",
              "      <td>６Ｄ美容儀</td>\n",
              "      <td>64347272.00</td>\n",
              "    </tr>\n",
              "  </tbody>\n",
              "</table>\n",
              "<p>775 rows × 2 columns</p>\n",
              "</div>"
            ],
            "text/plain": [
              "             Description     Revenue\n",
              "0      (3.0 )腸道淨化3.0課程單堂 42561328.00\n",
              "1     (3.0)旗艦腸道淨化3.0課程單堂   703856.00\n",
              "2    (VIP)足部玫瑰晶萃瞬效保養課程單堂    12272.00\n",
              "3         (寵愛御藏)肌因彈潤課程單堂  3026632.00\n",
              "4            (新)溫熱刮痧課程單堂 88386960.00\n",
              "..                   ...         ...\n",
              "770        龍血求麗修護霜5ml-贈品   722536.00\n",
              "771        龍血求麗精油手工皂100g  2753792.00\n",
              "772        龍血求麗精油護手霜30ml    40624.00\n",
              "773          ３鑽白奢華面膜-10包    13408.00\n",
              "774                ６Ｄ美容儀 64347272.00\n",
              "\n",
              "[775 rows x 2 columns]"
            ]
          },
          "metadata": {},
          "execution_count": 120
        }
      ]
    },
    {
      "cell_type": "code",
      "source": [
        "find_best_revenue.loc[find_best_revenue['Revenue'].idxmax()]"
      ],
      "metadata": {
        "colab": {
          "base_uri": "https://localhost:8080/"
        },
        "id": "hs8kC_G6DYdA",
        "outputId": "f260ecfe-e5ff-4037-a209-5964c9c8812d"
      },
      "execution_count": null,
      "outputs": [
        {
          "output_type": "execute_result",
          "data": {
            "text/plain": [
              "Description    BA-5肌密抗皺活妍霜60g\n",
              "Revenue          485392400.00\n",
              "Name: 37, dtype: object"
            ]
          },
          "metadata": {},
          "execution_count": 121
        }
      ]
    },
    {
      "cell_type": "code",
      "source": [
        "best_revenue = data1[data1['Description']=='BA-5肌密抗皺活妍霜60g']\n",
        "best_revenue"
      ],
      "metadata": {
        "colab": {
          "base_uri": "https://localhost:8080/",
          "height": 617
        },
        "id": "vZ2zkK0DDiR2",
        "outputId": "2af736cb-df94-4c42-e3bd-8ff93c140924"
      },
      "execution_count": null,
      "outputs": [
        {
          "output_type": "execute_result",
          "data": {
            "text/html": [
              "<div>\n",
              "<style scoped>\n",
              "    .dataframe tbody tr th:only-of-type {\n",
              "        vertical-align: middle;\n",
              "    }\n",
              "\n",
              "    .dataframe tbody tr th {\n",
              "        vertical-align: top;\n",
              "    }\n",
              "\n",
              "    .dataframe thead th {\n",
              "        text-align: right;\n",
              "    }\n",
              "</style>\n",
              "<table border=\"1\" class=\"dataframe\">\n",
              "  <thead>\n",
              "    <tr style=\"text-align: right;\">\n",
              "      <th></th>\n",
              "      <th>InvoiceNo</th>\n",
              "      <th>StockCode</th>\n",
              "      <th>Description</th>\n",
              "      <th>Quantity</th>\n",
              "      <th>InvoiceDate</th>\n",
              "      <th>UnitPrice</th>\n",
              "      <th>CustomerID</th>\n",
              "      <th>Country</th>\n",
              "      <th>member_start_date</th>\n",
              "      <th>first_trans_date</th>\n",
              "      <th>Revenue</th>\n",
              "    </tr>\n",
              "  </thead>\n",
              "  <tbody>\n",
              "    <tr>\n",
              "      <th>584674</th>\n",
              "      <td>PS533A003646</td>\n",
              "      <td>MAB6G2</td>\n",
              "      <td>BA-5肌密抗皺活妍霜60g</td>\n",
              "      <td>8.00</td>\n",
              "      <td>2019-11-08</td>\n",
              "      <td>5181.00</td>\n",
              "      <td>9100000367072.00</td>\n",
              "      <td>中區</td>\n",
              "      <td>2004-04-03</td>\n",
              "      <td>2012-08-26</td>\n",
              "      <td>41448.00</td>\n",
              "    </tr>\n",
              "    <tr>\n",
              "      <th>584752</th>\n",
              "      <td>PS5538009761</td>\n",
              "      <td>MAB6G2</td>\n",
              "      <td>BA-5肌密抗皺活妍霜60g</td>\n",
              "      <td>8.00</td>\n",
              "      <td>2019-11-08</td>\n",
              "      <td>5181.00</td>\n",
              "      <td>9100000657838.00</td>\n",
              "      <td>高屏全區</td>\n",
              "      <td>2011-05-13</td>\n",
              "      <td>2012-10-01</td>\n",
              "      <td>41448.00</td>\n",
              "    </tr>\n",
              "    <tr>\n",
              "      <th>584962</th>\n",
              "      <td>PS5141023465</td>\n",
              "      <td>MAB6G2</td>\n",
              "      <td>BA-5肌密抗皺活妍霜60g</td>\n",
              "      <td>8.00</td>\n",
              "      <td>2019-11-08</td>\n",
              "      <td>5979.00</td>\n",
              "      <td>9100001112619.00</td>\n",
              "      <td>台北A區</td>\n",
              "      <td>2009-04-06</td>\n",
              "      <td>2012-10-05</td>\n",
              "      <td>47832.00</td>\n",
              "    </tr>\n",
              "    <tr>\n",
              "      <th>584964</th>\n",
              "      <td>PS5141023465</td>\n",
              "      <td>MAB6G2</td>\n",
              "      <td>BA-5肌密抗皺活妍霜60g</td>\n",
              "      <td>8.00</td>\n",
              "      <td>2019-11-08</td>\n",
              "      <td>5979.00</td>\n",
              "      <td>9100001112619.00</td>\n",
              "      <td>台北A區</td>\n",
              "      <td>2009-04-06</td>\n",
              "      <td>2012-10-05</td>\n",
              "      <td>47832.00</td>\n",
              "    </tr>\n",
              "    <tr>\n",
              "      <th>585050</th>\n",
              "      <td>PS5529019594</td>\n",
              "      <td>MAB6G2</td>\n",
              "      <td>BA-5肌密抗皺活妍霜60g</td>\n",
              "      <td>8.00</td>\n",
              "      <td>2019-11-08</td>\n",
              "      <td>5181.00</td>\n",
              "      <td>9100001277202.00</td>\n",
              "      <td>高屏全區</td>\n",
              "      <td>2005-07-09</td>\n",
              "      <td>2014-03-25</td>\n",
              "      <td>41448.00</td>\n",
              "    </tr>\n",
              "    <tr>\n",
              "      <th>...</th>\n",
              "      <td>...</td>\n",
              "      <td>...</td>\n",
              "      <td>...</td>\n",
              "      <td>...</td>\n",
              "      <td>...</td>\n",
              "      <td>...</td>\n",
              "      <td>...</td>\n",
              "      <td>...</td>\n",
              "      <td>...</td>\n",
              "      <td>...</td>\n",
              "      <td>...</td>\n",
              "    </tr>\n",
              "    <tr>\n",
              "      <th>1402421</th>\n",
              "      <td>PS5544004064</td>\n",
              "      <td>MAB6G2</td>\n",
              "      <td>BA-5肌密抗皺活妍霜60g</td>\n",
              "      <td>8.00</td>\n",
              "      <td>2020-12-31</td>\n",
              "      <td>6449.00</td>\n",
              "      <td>9100001244921.00</td>\n",
              "      <td>高屏全區</td>\n",
              "      <td>2002-10-04</td>\n",
              "      <td>2012-11-04</td>\n",
              "      <td>51592.00</td>\n",
              "    </tr>\n",
              "    <tr>\n",
              "      <th>1402423</th>\n",
              "      <td>PS5544004064</td>\n",
              "      <td>MAB6G2</td>\n",
              "      <td>BA-5肌密抗皺活妍霜60g</td>\n",
              "      <td>8.00</td>\n",
              "      <td>2020-12-31</td>\n",
              "      <td>6449.00</td>\n",
              "      <td>9100001244921.00</td>\n",
              "      <td>高屏全區</td>\n",
              "      <td>2002-10-04</td>\n",
              "      <td>2012-11-04</td>\n",
              "      <td>51592.00</td>\n",
              "    </tr>\n",
              "    <tr>\n",
              "      <th>1402954</th>\n",
              "      <td>PS5373022673</td>\n",
              "      <td>MAB6G2</td>\n",
              "      <td>BA-5肌密抗皺活妍霜60g</td>\n",
              "      <td>8.00</td>\n",
              "      <td>2020-12-31</td>\n",
              "      <td>6449.00</td>\n",
              "      <td>9100000262834.00</td>\n",
              "      <td>彰雲區</td>\n",
              "      <td>2005-10-22</td>\n",
              "      <td>2012-08-20</td>\n",
              "      <td>51592.00</td>\n",
              "    </tr>\n",
              "    <tr>\n",
              "      <th>1403019</th>\n",
              "      <td>PS5373022675</td>\n",
              "      <td>MAB6G2</td>\n",
              "      <td>BA-5肌密抗皺活妍霜60g</td>\n",
              "      <td>8.00</td>\n",
              "      <td>2020-12-31</td>\n",
              "      <td>6387.00</td>\n",
              "      <td>9100000262834.00</td>\n",
              "      <td>彰雲區</td>\n",
              "      <td>2005-10-22</td>\n",
              "      <td>2012-08-20</td>\n",
              "      <td>51096.00</td>\n",
              "    </tr>\n",
              "    <tr>\n",
              "      <th>1403206</th>\n",
              "      <td>PS5414018486</td>\n",
              "      <td>MAB6G2</td>\n",
              "      <td>BA-5肌密抗皺活妍霜60g</td>\n",
              "      <td>8.00</td>\n",
              "      <td>2020-12-31</td>\n",
              "      <td>6449.00</td>\n",
              "      <td>9100001670898.00</td>\n",
              "      <td>南區</td>\n",
              "      <td>2013-12-21</td>\n",
              "      <td>2013-12-21</td>\n",
              "      <td>51592.00</td>\n",
              "    </tr>\n",
              "  </tbody>\n",
              "</table>\n",
              "<p>10100 rows × 11 columns</p>\n",
              "</div>"
            ],
            "text/plain": [
              "            InvoiceNo StockCode  ... first_trans_date  Revenue\n",
              "584674   PS533A003646    MAB6G2  ...       2012-08-26 41448.00\n",
              "584752   PS5538009761    MAB6G2  ...       2012-10-01 41448.00\n",
              "584962   PS5141023465    MAB6G2  ...       2012-10-05 47832.00\n",
              "584964   PS5141023465    MAB6G2  ...       2012-10-05 47832.00\n",
              "585050   PS5529019594    MAB6G2  ...       2014-03-25 41448.00\n",
              "...               ...       ...  ...              ...      ...\n",
              "1402421  PS5544004064    MAB6G2  ...       2012-11-04 51592.00\n",
              "1402423  PS5544004064    MAB6G2  ...       2012-11-04 51592.00\n",
              "1402954  PS5373022673    MAB6G2  ...       2012-08-20 51592.00\n",
              "1403019  PS5373022675    MAB6G2  ...       2012-08-20 51096.00\n",
              "1403206  PS5414018486    MAB6G2  ...       2013-12-21 51592.00\n",
              "\n",
              "[10100 rows x 11 columns]"
            ]
          },
          "metadata": {},
          "execution_count": 122
        }
      ]
    },
    {
      "cell_type": "code",
      "source": [
        "best_revenue_in_country = best_revenue.groupby(['Country'])['Revenue'].sum().reset_index()\n",
        "best_revenue_in_country"
      ],
      "metadata": {
        "colab": {
          "base_uri": "https://localhost:8080/",
          "height": 300
        },
        "id": "SJtUZLFJJO1x",
        "outputId": "f97a9151-d5ed-401e-eea4-e1bb99b8ba51"
      },
      "execution_count": null,
      "outputs": [
        {
          "output_type": "execute_result",
          "data": {
            "text/html": [
              "<div>\n",
              "<style scoped>\n",
              "    .dataframe tbody tr th:only-of-type {\n",
              "        vertical-align: middle;\n",
              "    }\n",
              "\n",
              "    .dataframe tbody tr th {\n",
              "        vertical-align: top;\n",
              "    }\n",
              "\n",
              "    .dataframe thead th {\n",
              "        text-align: right;\n",
              "    }\n",
              "</style>\n",
              "<table border=\"1\" class=\"dataframe\">\n",
              "  <thead>\n",
              "    <tr style=\"text-align: right;\">\n",
              "      <th></th>\n",
              "      <th>Country</th>\n",
              "      <th>Revenue</th>\n",
              "    </tr>\n",
              "  </thead>\n",
              "  <tbody>\n",
              "    <tr>\n",
              "      <th>0</th>\n",
              "      <td>中區</td>\n",
              "      <td>113775752.00</td>\n",
              "    </tr>\n",
              "    <tr>\n",
              "      <th>1</th>\n",
              "      <td>南區</td>\n",
              "      <td>55841776.00</td>\n",
              "    </tr>\n",
              "    <tr>\n",
              "      <th>2</th>\n",
              "      <td>台北A區</td>\n",
              "      <td>84680112.00</td>\n",
              "    </tr>\n",
              "    <tr>\n",
              "      <th>3</th>\n",
              "      <td>台北B區</td>\n",
              "      <td>57918496.00</td>\n",
              "    </tr>\n",
              "    <tr>\n",
              "      <th>4</th>\n",
              "      <td>彰雲區</td>\n",
              "      <td>41793560.00</td>\n",
              "    </tr>\n",
              "    <tr>\n",
              "      <th>5</th>\n",
              "      <td>竹區</td>\n",
              "      <td>72078616.00</td>\n",
              "    </tr>\n",
              "    <tr>\n",
              "      <th>6</th>\n",
              "      <td>總管理處</td>\n",
              "      <td>3637976.00</td>\n",
              "    </tr>\n",
              "    <tr>\n",
              "      <th>7</th>\n",
              "      <td>高屏全區</td>\n",
              "      <td>55666112.00</td>\n",
              "    </tr>\n",
              "  </tbody>\n",
              "</table>\n",
              "</div>"
            ],
            "text/plain": [
              "  Country      Revenue\n",
              "0      中區 113775752.00\n",
              "1      南區  55841776.00\n",
              "2    台北A區  84680112.00\n",
              "3    台北B區  57918496.00\n",
              "4     彰雲區  41793560.00\n",
              "5      竹區  72078616.00\n",
              "6    總管理處   3637976.00\n",
              "7    高屏全區  55666112.00"
            ]
          },
          "metadata": {},
          "execution_count": 123
        }
      ]
    },
    {
      "cell_type": "code",
      "source": [
        "fig, ax = plt.subplots(1,2,figsize=(18,6))\n",
        "plt.pie(best_revenue_in_country['Revenue'], labels=best_revenue_in_country['Country'], autopct='%1.2f%%')\n",
        "sns.lineplot(x='Country', y='Revenue', data=best_revenue_in_country, ax=ax[0])\n",
        "plt.show()"
      ],
      "metadata": {
        "colab": {
          "base_uri": "https://localhost:8080/",
          "height": 357
        },
        "id": "yguZGKArKmIa",
        "outputId": "4bb0abe1-a21a-4ed2-fc31-af2d4c788519"
      },
      "execution_count": null,
      "outputs": [
        {
          "output_type": "display_data",
          "data": {
            "image/png": "[encoded data removed]",
            "text/plain": [
              "<Figure size 1296x432 with 2 Axes>"
            ]
          },
          "metadata": {
            "needs_background": "light"
          }
        }
      ]
    },
    {
      "cell_type": "markdown",
      "source": [
        "### 用折線圖展示春、夏、秋、冬每個季節購買的人數與收入"
      ],
      "metadata": {
        "id": "t7lQM86VSwF5"
      }
    },
    {
      "cell_type": "code",
      "source": [
        "data1['InvoiceDate'] = pd.to_datetime(data1['InvoiceDate'])\n",
        "data1.info()"
      ],
      "metadata": {
        "colab": {
          "base_uri": "https://localhost:8080/"
        },
        "id": "LPrB6zLIOB12",
        "outputId": "50f2260f-131a-4809-c090-5a15f46f56e4"
      },
      "execution_count": null,
      "outputs": [
        {
          "output_type": "stream",
          "name": "stdout",
          "text": [
            "<class 'pandas.core.frame.DataFrame'>\n",
            "Int64Index: 1181196 entries, 0 to 1404434\n",
            "Data columns (total 11 columns):\n",
            " #   Column             Non-Null Count    Dtype         \n",
            "---  ------             --------------    -----         \n",
            " 0   InvoiceNo          1181196 non-null  object        \n",
            " 1   StockCode          1181196 non-null  object        \n",
            " 2   Description        1181196 non-null  object        \n",
            " 3   Quantity           1181196 non-null  float64       \n",
            " 4   InvoiceDate        1181196 non-null  datetime64[ns]\n",
            " 5   UnitPrice          1181196 non-null  float64       \n",
            " 6   CustomerID         1181196 non-null  float64       \n",
            " 7   Country            1181196 non-null  object        \n",
            " 8   member_start_date  1144520 non-null  object        \n",
            " 9   first_trans_date   1177960 non-null  object        \n",
            " 10  Revenue            1181196 non-null  float64       \n",
            "dtypes: datetime64[ns](1), float64(4), object(6)\n",
            "memory usage: 108.1+ MB\n"
          ]
        }
      ]
    },
    {
      "cell_type": "code",
      "source": [
        "data1.loc[(data1.InvoiceDate.dt.month>=3) & (data1.InvoiceDate.dt.month<=5), 'Season'] = '春'\n",
        "data1.loc[(data1.InvoiceDate.dt.month>=6) & (data1.InvoiceDate.dt.month<=8), 'Season'] = '夏'\n",
        "data1.loc[(data1.InvoiceDate.dt.month>=9) & (data1.InvoiceDate.dt.month<=11), 'Season'] = '秋'\n",
        "data1.loc[(data1.InvoiceDate.dt.month>=12) | (data1.InvoiceDate.dt.month<=2), 'Season'] = '冬'\n",
        "data1"
      ],
      "metadata": {
        "colab": {
          "base_uri": "https://localhost:8080/",
          "height": 738
        },
        "id": "hr67Bh05YQax",
        "outputId": "779288eb-348e-4b6a-fa51-6f91b72f6100"
      },
      "execution_count": null,
      "outputs": [
        {
          "output_type": "execute_result",
          "data": {
            "text/html": [
              "<div>\n",
              "<style scoped>\n",
              "    .dataframe tbody tr th:only-of-type {\n",
              "        vertical-align: middle;\n",
              "    }\n",
              "\n",
              "    .dataframe tbody tr th {\n",
              "        vertical-align: top;\n",
              "    }\n",
              "\n",
              "    .dataframe thead th {\n",
              "        text-align: right;\n",
              "    }\n",
              "</style>\n",
              "<table border=\"1\" class=\"dataframe\">\n",
              "  <thead>\n",
              "    <tr style=\"text-align: right;\">\n",
              "      <th></th>\n",
              "      <th>InvoiceNo</th>\n",
              "      <th>StockCode</th>\n",
              "      <th>Description</th>\n",
              "      <th>Quantity</th>\n",
              "      <th>InvoiceDate</th>\n",
              "      <th>UnitPrice</th>\n",
              "      <th>CustomerID</th>\n",
              "      <th>Country</th>\n",
              "      <th>member_start_date</th>\n",
              "      <th>first_trans_date</th>\n",
              "      <th>Revenue</th>\n",
              "      <th>Season</th>\n",
              "    </tr>\n",
              "  </thead>\n",
              "  <tbody>\n",
              "    <tr>\n",
              "      <th>0</th>\n",
              "      <td>PS5327001158</td>\n",
              "      <td>JA01</td>\n",
              "      <td>晶淬雪潔顏乳100ml</td>\n",
              "      <td>8.00</td>\n",
              "      <td>2019-01-01</td>\n",
              "      <td>1259.00</td>\n",
              "      <td>9100002488768.00</td>\n",
              "      <td>中區</td>\n",
              "      <td>2019-12-09</td>\n",
              "      <td>2018-06-24</td>\n",
              "      <td>10072.00</td>\n",
              "      <td>冬</td>\n",
              "    </tr>\n",
              "    <tr>\n",
              "      <th>1</th>\n",
              "      <td>PS5335020955</td>\n",
              "      <td>KG06</td>\n",
              "      <td>多肽亮眼乳霜20g-保濕型</td>\n",
              "      <td>8.00</td>\n",
              "      <td>2019-01-01</td>\n",
              "      <td>839.00</td>\n",
              "      <td>9100002556566.00</td>\n",
              "      <td>中區</td>\n",
              "      <td>2018-10-21</td>\n",
              "      <td>2018-10-21</td>\n",
              "      <td>6712.00</td>\n",
              "      <td>冬</td>\n",
              "    </tr>\n",
              "    <tr>\n",
              "      <th>2</th>\n",
              "      <td>PS5335020955</td>\n",
              "      <td>BJ102</td>\n",
              "      <td>檸檬精油10ml MUI</td>\n",
              "      <td>8.00</td>\n",
              "      <td>2019-01-01</td>\n",
              "      <td>839.00</td>\n",
              "      <td>9100002556566.00</td>\n",
              "      <td>中區</td>\n",
              "      <td>2018-10-21</td>\n",
              "      <td>2018-10-21</td>\n",
              "      <td>6712.00</td>\n",
              "      <td>冬</td>\n",
              "    </tr>\n",
              "    <tr>\n",
              "      <th>3</th>\n",
              "      <td>PS5335020955</td>\n",
              "      <td>JZA3G1</td>\n",
              "      <td>柚見快樂精油15ml MUI</td>\n",
              "      <td>-8.00</td>\n",
              "      <td>2019-01-01</td>\n",
              "      <td>-1501.00</td>\n",
              "      <td>9100002556566.00</td>\n",
              "      <td>中區</td>\n",
              "      <td>2018-10-21</td>\n",
              "      <td>2018-10-21</td>\n",
              "      <td>-12008.00</td>\n",
              "      <td>冬</td>\n",
              "    </tr>\n",
              "    <tr>\n",
              "      <th>4</th>\n",
              "      <td>PS5444006919</td>\n",
              "      <td>BJ103</td>\n",
              "      <td>細花冬青香氛油10ml MUI</td>\n",
              "      <td>8.00</td>\n",
              "      <td>2019-01-01</td>\n",
              "      <td>672.00</td>\n",
              "      <td>9100002582077.00</td>\n",
              "      <td>南區</td>\n",
              "      <td>2018-12-04</td>\n",
              "      <td>2018-12-04</td>\n",
              "      <td>5376.00</td>\n",
              "      <td>冬</td>\n",
              "    </tr>\n",
              "    <tr>\n",
              "      <th>...</th>\n",
              "      <td>...</td>\n",
              "      <td>...</td>\n",
              "      <td>...</td>\n",
              "      <td>...</td>\n",
              "      <td>...</td>\n",
              "      <td>...</td>\n",
              "      <td>...</td>\n",
              "      <td>...</td>\n",
              "      <td>...</td>\n",
              "      <td>...</td>\n",
              "      <td>...</td>\n",
              "      <td>...</td>\n",
              "    </tr>\n",
              "    <tr>\n",
              "      <th>1404430</th>\n",
              "      <td>PS5324024941</td>\n",
              "      <td>KQ02</td>\n",
              "      <td>玫瑰晶萃活膚液130ml</td>\n",
              "      <td>16.00</td>\n",
              "      <td>2020-12-31</td>\n",
              "      <td>2946.00</td>\n",
              "      <td>9100000595826.00</td>\n",
              "      <td>中區</td>\n",
              "      <td>2010-03-15</td>\n",
              "      <td>2012-07-11</td>\n",
              "      <td>47136.00</td>\n",
              "      <td>冬</td>\n",
              "    </tr>\n",
              "    <tr>\n",
              "      <th>1404431</th>\n",
              "      <td>PS5219002027</td>\n",
              "      <td>GAXFG1</td>\n",
              "      <td>真正除臭抗菌噴霧(銀離子迷迭香)250ml</td>\n",
              "      <td>8.00</td>\n",
              "      <td>2020-12-31</td>\n",
              "      <td>309.00</td>\n",
              "      <td>9100003028369.00</td>\n",
              "      <td>竹區</td>\n",
              "      <td>2020-12-08</td>\n",
              "      <td>2020-11-26</td>\n",
              "      <td>2472.00</td>\n",
              "      <td>冬</td>\n",
              "    </tr>\n",
              "    <tr>\n",
              "      <th>1404432</th>\n",
              "      <td>PS5219002027</td>\n",
              "      <td>MAB2G1</td>\n",
              "      <td>BA-5肌密全效噴霧奇蹟水70ml</td>\n",
              "      <td>8.00</td>\n",
              "      <td>2020-12-31</td>\n",
              "      <td>1094.00</td>\n",
              "      <td>9100003028369.00</td>\n",
              "      <td>竹區</td>\n",
              "      <td>2020-12-08</td>\n",
              "      <td>2020-11-26</td>\n",
              "      <td>8752.00</td>\n",
              "      <td>冬</td>\n",
              "    </tr>\n",
              "    <tr>\n",
              "      <th>1404433</th>\n",
              "      <td>PS5219002027</td>\n",
              "      <td>WD096</td>\n",
              "      <td>緊緻保濕裸膚羽翼面膜25ml-零售單包</td>\n",
              "      <td>16.00</td>\n",
              "      <td>2020-12-31</td>\n",
              "      <td>165.00</td>\n",
              "      <td>9100003028369.00</td>\n",
              "      <td>竹區</td>\n",
              "      <td>2020-12-08</td>\n",
              "      <td>2020-11-26</td>\n",
              "      <td>2640.00</td>\n",
              "      <td>冬</td>\n",
              "    </tr>\n",
              "    <tr>\n",
              "      <th>1404434</th>\n",
              "      <td>PS5219002028</td>\n",
              "      <td>GAXFG2</td>\n",
              "      <td>真正除臭抗菌噴霧(銀離子迷迭香)350ml</td>\n",
              "      <td>8.00</td>\n",
              "      <td>2020-12-31</td>\n",
              "      <td>441.00</td>\n",
              "      <td>9100003039464.00</td>\n",
              "      <td>竹區</td>\n",
              "      <td>2020-12-23</td>\n",
              "      <td>2020-12-10</td>\n",
              "      <td>3528.00</td>\n",
              "      <td>冬</td>\n",
              "    </tr>\n",
              "  </tbody>\n",
              "</table>\n",
              "<p>1181196 rows × 12 columns</p>\n",
              "</div>"
            ],
            "text/plain": [
              "            InvoiceNo StockCode  ...   Revenue  Season\n",
              "0        PS5327001158      JA01  ...  10072.00       冬\n",
              "1        PS5335020955      KG06  ...   6712.00       冬\n",
              "2        PS5335020955     BJ102  ...   6712.00       冬\n",
              "3        PS5335020955    JZA3G1  ... -12008.00       冬\n",
              "4        PS5444006919     BJ103  ...   5376.00       冬\n",
              "...               ...       ...  ...       ...     ...\n",
              "1404430  PS5324024941      KQ02  ...  47136.00       冬\n",
              "1404431  PS5219002027    GAXFG1  ...   2472.00       冬\n",
              "1404432  PS5219002027    MAB2G1  ...   8752.00       冬\n",
              "1404433  PS5219002027     WD096  ...   2640.00       冬\n",
              "1404434  PS5219002028    GAXFG2  ...   3528.00       冬\n",
              "\n",
              "[1181196 rows x 12 columns]"
            ]
          },
          "metadata": {},
          "execution_count": 140
        }
      ]
    },
    {
      "cell_type": "markdown",
      "source": [
        "#### 畫圖作法1(較難設定legend)"
      ],
      "metadata": {
        "id": "YBEJx5lE1_c0"
      }
    },
    {
      "cell_type": "code",
      "source": [
        "season_revenue = data1.groupby(['Season'])['Revenue'].sum().reset_index()\n",
        "season_revenue"
      ],
      "metadata": {
        "colab": {
          "base_uri": "https://localhost:8080/",
          "height": 175
        },
        "id": "fVS3v2apVEVZ",
        "outputId": "895e30f3-ad4a-4584-8a1d-8b1c44614cd4"
      },
      "execution_count": null,
      "outputs": [
        {
          "output_type": "execute_result",
          "data": {
            "text/html": [
              "<div>\n",
              "<style scoped>\n",
              "    .dataframe tbody tr th:only-of-type {\n",
              "        vertical-align: middle;\n",
              "    }\n",
              "\n",
              "    .dataframe tbody tr th {\n",
              "        vertical-align: top;\n",
              "    }\n",
              "\n",
              "    .dataframe thead th {\n",
              "        text-align: right;\n",
              "    }\n",
              "</style>\n",
              "<table border=\"1\" class=\"dataframe\">\n",
              "  <thead>\n",
              "    <tr style=\"text-align: right;\">\n",
              "      <th></th>\n",
              "      <th>Season</th>\n",
              "      <th>Revenue</th>\n",
              "    </tr>\n",
              "  </thead>\n",
              "  <tbody>\n",
              "    <tr>\n",
              "      <th>0</th>\n",
              "      <td>冬</td>\n",
              "      <td>2978176952.00</td>\n",
              "    </tr>\n",
              "    <tr>\n",
              "      <th>1</th>\n",
              "      <td>夏</td>\n",
              "      <td>3099277400.00</td>\n",
              "    </tr>\n",
              "    <tr>\n",
              "      <th>2</th>\n",
              "      <td>春</td>\n",
              "      <td>3571373040.00</td>\n",
              "    </tr>\n",
              "    <tr>\n",
              "      <th>3</th>\n",
              "      <td>秋</td>\n",
              "      <td>3391068680.00</td>\n",
              "    </tr>\n",
              "  </tbody>\n",
              "</table>\n",
              "</div>"
            ],
            "text/plain": [
              "  Season       Revenue\n",
              "0      冬 2978176952.00\n",
              "1      夏 3099277400.00\n",
              "2      春 3571373040.00\n",
              "3      秋 3391068680.00"
            ]
          },
          "metadata": {},
          "execution_count": 181
        }
      ]
    },
    {
      "cell_type": "code",
      "source": [
        "season_visit = data1.groupby(['Season'])['CustomerID'].count().reset_index()\n",
        "season_visit = season_visit.rename(columns={'CustomerID':'Person-times'})\n",
        "season_visit"
      ],
      "metadata": {
        "colab": {
          "base_uri": "https://localhost:8080/",
          "height": 175
        },
        "id": "_zrnP0TTTyzW",
        "outputId": "600b81f8-3f83-4453-c0b4-22509fa6e8ca"
      },
      "execution_count": null,
      "outputs": [
        {
          "output_type": "execute_result",
          "data": {
            "text/html": [
              "<div>\n",
              "<style scoped>\n",
              "    .dataframe tbody tr th:only-of-type {\n",
              "        vertical-align: middle;\n",
              "    }\n",
              "\n",
              "    .dataframe tbody tr th {\n",
              "        vertical-align: top;\n",
              "    }\n",
              "\n",
              "    .dataframe thead th {\n",
              "        text-align: right;\n",
              "    }\n",
              "</style>\n",
              "<table border=\"1\" class=\"dataframe\">\n",
              "  <thead>\n",
              "    <tr style=\"text-align: right;\">\n",
              "      <th></th>\n",
              "      <th>Season</th>\n",
              "      <th>Person-times</th>\n",
              "    </tr>\n",
              "  </thead>\n",
              "  <tbody>\n",
              "    <tr>\n",
              "      <th>0</th>\n",
              "      <td>冬</td>\n",
              "      <td>246592</td>\n",
              "    </tr>\n",
              "    <tr>\n",
              "      <th>1</th>\n",
              "      <td>夏</td>\n",
              "      <td>300898</td>\n",
              "    </tr>\n",
              "    <tr>\n",
              "      <th>2</th>\n",
              "      <td>春</td>\n",
              "      <td>346370</td>\n",
              "    </tr>\n",
              "    <tr>\n",
              "      <th>3</th>\n",
              "      <td>秋</td>\n",
              "      <td>287336</td>\n",
              "    </tr>\n",
              "  </tbody>\n",
              "</table>\n",
              "</div>"
            ],
            "text/plain": [
              "  Season  Person-times\n",
              "0      冬        246592\n",
              "1      夏        300898\n",
              "2      春        346370\n",
              "3      秋        287336"
            ]
          },
          "metadata": {},
          "execution_count": 182
        }
      ]
    },
    {
      "cell_type": "code",
      "source": [
        "figure, ax1 = plt.subplots(figsize=(18,6))\n",
        "sns.lineplot(ax=ax1, x='Season', y='Revenue', data=season_revenue, color='blue') \n",
        "plt.legend(labels=['Revenue'], loc=1)\n",
        "ax2 = ax1.twinx()\n",
        "sns.lineplot(ax=ax2, x='Season', y='Person-times', data=season_visit, color='red')\n",
        "plt.legend(labels=['Person-times'], loc=4)\n",
        "plt.show()"
      ],
      "metadata": {
        "colab": {
          "base_uri": "https://localhost:8080/",
          "height": 323
        },
        "id": "Su-T5SbPs8r9",
        "outputId": "a6491856-2119-4555-b472-ea06814e5a5e"
      },
      "execution_count": null,
      "outputs": [
        {
          "output_type": "display_data",
          "data": {
            "image/png": "[encoded data removed]",
            "text/plain": [
              "<Figure size 1296x432 with 2 Axes>"
            ]
          },
          "metadata": {
            "needs_background": "light"
          }
        }
      ]
    },
    {
      "cell_type": "markdown",
      "source": [
        "#### 畫圖作法2(程式碼較簡單但圖案不漂亮)"
      ],
      "metadata": {
        "id": "FT9PpuRw4yR-"
      }
    },
    {
      "cell_type": "code",
      "source": [
        "season_visit_revenue = data1.groupby(['Season'])['CustomerID'].count().reset_index()\n",
        "season_visit_revenue = season_visit_revenue.rename(columns={'CustomerID':'Person-times'})\n",
        "season_visit_revenue['Revenue'] = season_revenue['Revenue']\n",
        "season_visit_revenue"
      ],
      "metadata": {
        "colab": {
          "base_uri": "https://localhost:8080/",
          "height": 175
        },
        "id": "TxgxmvX52Fh2",
        "outputId": "fa17f29b-b5ce-42d6-a1f2-2a218b964b6d"
      },
      "execution_count": null,
      "outputs": [
        {
          "output_type": "execute_result",
          "data": {
            "text/html": [
              "<div>\n",
              "<style scoped>\n",
              "    .dataframe tbody tr th:only-of-type {\n",
              "        vertical-align: middle;\n",
              "    }\n",
              "\n",
              "    .dataframe tbody tr th {\n",
              "        vertical-align: top;\n",
              "    }\n",
              "\n",
              "    .dataframe thead th {\n",
              "        text-align: right;\n",
              "    }\n",
              "</style>\n",
              "<table border=\"1\" class=\"dataframe\">\n",
              "  <thead>\n",
              "    <tr style=\"text-align: right;\">\n",
              "      <th></th>\n",
              "      <th>Season</th>\n",
              "      <th>Person-times</th>\n",
              "      <th>Revenue</th>\n",
              "    </tr>\n",
              "  </thead>\n",
              "  <tbody>\n",
              "    <tr>\n",
              "      <th>0</th>\n",
              "      <td>冬</td>\n",
              "      <td>246592</td>\n",
              "      <td>2978176952.00</td>\n",
              "    </tr>\n",
              "    <tr>\n",
              "      <th>1</th>\n",
              "      <td>夏</td>\n",
              "      <td>300898</td>\n",
              "      <td>3099277400.00</td>\n",
              "    </tr>\n",
              "    <tr>\n",
              "      <th>2</th>\n",
              "      <td>春</td>\n",
              "      <td>346370</td>\n",
              "      <td>3571373040.00</td>\n",
              "    </tr>\n",
              "    <tr>\n",
              "      <th>3</th>\n",
              "      <td>秋</td>\n",
              "      <td>287336</td>\n",
              "      <td>3391068680.00</td>\n",
              "    </tr>\n",
              "  </tbody>\n",
              "</table>\n",
              "</div>"
            ],
            "text/plain": [
              "  Season  Person-times       Revenue\n",
              "0      冬        246592 2978176952.00\n",
              "1      夏        300898 3099277400.00\n",
              "2      春        346370 3571373040.00\n",
              "3      秋        287336 3391068680.00"
            ]
          },
          "metadata": {},
          "execution_count": 184
        }
      ]
    },
    {
      "cell_type": "code",
      "source": [
        "season_visit_revenue.index = season_visit_revenue['Season']\n",
        "season_visit_revenue = season_visit_revenue.drop('Season', axis=1)\n",
        "season_visit_revenue"
      ],
      "metadata": {
        "colab": {
          "base_uri": "https://localhost:8080/",
          "height": 206
        },
        "id": "6Wavf0mu5dHu",
        "outputId": "ece4e792-007d-4957-e7d4-f57800963b1d"
      },
      "execution_count": null,
      "outputs": [
        {
          "output_type": "execute_result",
          "data": {
            "text/html": [
              "<div>\n",
              "<style scoped>\n",
              "    .dataframe tbody tr th:only-of-type {\n",
              "        vertical-align: middle;\n",
              "    }\n",
              "\n",
              "    .dataframe tbody tr th {\n",
              "        vertical-align: top;\n",
              "    }\n",
              "\n",
              "    .dataframe thead th {\n",
              "        text-align: right;\n",
              "    }\n",
              "</style>\n",
              "<table border=\"1\" class=\"dataframe\">\n",
              "  <thead>\n",
              "    <tr style=\"text-align: right;\">\n",
              "      <th></th>\n",
              "      <th>Person-times</th>\n",
              "      <th>Revenue</th>\n",
              "    </tr>\n",
              "    <tr>\n",
              "      <th>Season</th>\n",
              "      <th></th>\n",
              "      <th></th>\n",
              "    </tr>\n",
              "  </thead>\n",
              "  <tbody>\n",
              "    <tr>\n",
              "      <th>冬</th>\n",
              "      <td>246592</td>\n",
              "      <td>2978176952.00</td>\n",
              "    </tr>\n",
              "    <tr>\n",
              "      <th>夏</th>\n",
              "      <td>300898</td>\n",
              "      <td>3099277400.00</td>\n",
              "    </tr>\n",
              "    <tr>\n",
              "      <th>春</th>\n",
              "      <td>346370</td>\n",
              "      <td>3571373040.00</td>\n",
              "    </tr>\n",
              "    <tr>\n",
              "      <th>秋</th>\n",
              "      <td>287336</td>\n",
              "      <td>3391068680.00</td>\n",
              "    </tr>\n",
              "  </tbody>\n",
              "</table>\n",
              "</div>"
            ],
            "text/plain": [
              "        Person-times       Revenue\n",
              "Season                            \n",
              "冬             246592 2978176952.00\n",
              "夏             300898 3099277400.00\n",
              "春             346370 3571373040.00\n",
              "秋             287336 3391068680.00"
            ]
          },
          "metadata": {},
          "execution_count": 188
        }
      ]
    },
    {
      "cell_type": "code",
      "source": [
        "season_visit_revenue.plot()"
      ],
      "metadata": {
        "colab": {
          "base_uri": "https://localhost:8080/",
          "height": 308
        },
        "id": "7XegdCcD0mAG",
        "outputId": "4b69ee6f-ff92-433c-fb1a-4beb2381c367"
      },
      "execution_count": null,
      "outputs": [
        {
          "output_type": "execute_result",
          "data": {
            "text/plain": [
              "<matplotlib.axes._subplots.AxesSubplot at 0x7f4cc4e9c910>"
            ]
          },
          "metadata": {},
          "execution_count": 191
        },
        {
          "output_type": "display_data",
          "data": {
            "image/png": "[encoded data removed]",
            "text/plain": [
              "<Figure size 432x288 with 1 Axes>"
            ]
          },
          "metadata": {
            "needs_background": "light"
          }
        }
      ]
    },
    {
      "cell_type": "markdown",
      "source": [
        "#### 轉換季節的失敗程式碼(純作業紀錄)"
      ],
      "metadata": {
        "id": "nsh12fUcssZB"
      }
    },
    {
      "cell_type": "code",
      "source": [
        "#失敗1\n",
        "#def season_treatment(datecolumn):\n",
        "# if data2[(data1.InvoiceDate.dt.month>=3) & (data1.InvoiceDate.dt.month<=5)]:\n",
        "#  return '春'\n",
        "#  if data2[(data1.InvoiceDate.dt.month>=6) & (data1.InvoiceDate.dt.month<=8)]:\n",
        "#   return '夏'\n",
        "# if data2[(data1.InvoiceDate.dt.month>=9) & (data1.InvoiceDate.dt.month<=11)]:\n",
        "#   return '秋'\n",
        "# if data2[(data1.InvoiceDate.dt.month>=12) | (data1.InvoiceDate.dt.month<=2)]:\n",
        "#   return '冬'\n",
        "#season = season_treatment(data2['InvoiceDate'])\n",
        "#season\n",
        "\n",
        "#失敗2\n",
        "#season = {(data1.loc[(data1.InvoiceDate.dt.month>=3)&(data1.InvoiceDate.dt.month<=5)]):'春',(data1.loc[(data1.InvoiceDate.dt.month>=6)&(data1.InvoiceDate.dt.month<=8)]):'夏',(data1.loc[(data1.InvoiceDate.dt.month>=9)&(data1.InvoiceDate.dt.month<=11)]):'秋',(data1.loc[(data1.InvoiceDate.dt.month>=12)|(data1.InvoiceDate.dt.month<=2)]):'冬'}\n",
        "#data2['Season'] = data2['Season'].map(season)\n",
        "#data2"
      ],
      "metadata": {
        "id": "LD_Yjh1LkXkV"
      },
      "execution_count": null,
      "outputs": []
    }
  ]
}